{
 "cells": [
  {
   "cell_type": "code",
   "execution_count": null,
   "metadata": {},
   "outputs": [],
   "source": [
    "## Importing Libraries\n",
    "\n",
    "import os\n",
    "import numpy as np\n",
    "import tensorflow as tf\n",
    "import matplotlib.pyplot as plt\n",
    "from PIL import Image\n",
    "\n",
    "print(tf.__version__)"
   ]
  },
  {
   "cell_type": "code",
   "execution_count": null,
   "metadata": {},
   "outputs": [],
   "source": [
    "## training에 사용할 image size\n",
    "img_width = 128\n",
    "img_height = 128"
   ]
  },
  {
   "cell_type": "code",
   "execution_count": null,
   "metadata": {},
   "outputs": [],
   "source": [
    "## tfrecord file 이름과 경로 설정\n",
    "tfrecord_train = 'train.tfrecord'\n",
    "tfrecord_test = 'test.tfrecord'\n",
    "tfrecord_dir = 'tfrecords'\n",
    "\n",
    "if not os.path.exists(tfrecord_dir):\n",
    "    os.makedirs(tfrecord_dir)"
   ]
  },
  {
   "cell_type": "code",
   "execution_count": null,
   "metadata": {},
   "outputs": [],
   "source": [
    "## image file 저장되어 있는 directory 이름\n",
    "image_dir = 'caltech101'"
   ]
  },
  {
   "cell_type": "code",
   "execution_count": null,
   "metadata": {},
   "outputs": [],
   "source": [
    "## image file들이 저장되어 있는 경로 설정\n",
    "cur_dir = os.getcwd()\n",
    "image_path = os.path.join(cur_dir, image_dir)\n",
    "\n",
    "## image file 경로에 directory가 몇 개 있는지(class 수) 확인\n",
    "print ('{} categories in {}'.format(len(os.listdir(image_path)), image_path))\n",
    "\n",
    "categories = sorted(os.listdir(image_path))\n",
    "num_categ = len(categories)\n",
    "print (categories)"
   ]
  },
  {
   "cell_type": "code",
   "execution_count": null,
   "metadata": {
    "scrolled": false
   },
   "outputs": [],
   "source": [
    "## image file 확장자\n",
    "valid_exts = ['.jpg', '.png', '.jpeg', '.gif']\n",
    "\n",
    "## directory 별로 image file을 읽어서 확장자를 확인하여 list에 저장, label도 함께 저장\n",
    "imgnames = []\n",
    "labels = []\n",
    "for label, category in enumerate(categories):\n",
    "    filelist = os.listdir(os.path.join(image_path, category))\n",
    "    imglist = []\n",
    "    for f in filelist:\n",
    "        ext = os.path.splitext(f)[-1]\n",
    "        ## 올바른 확장자인지 check\n",
    "        if ext.lower() not in valid_exts:\n",
    "            continue\n",
    "        img = Image.open(os.path.join(image_path, category, f))\n",
    "        img = np.asarray(img)        \n",
    "        ## 해당 class의 image list에 추가\n",
    "        imglist.append(f)        \n",
    "    ## 전체 image list에 추가\n",
    "    imgnames += imglist\n",
    "    ## label 추가\n",
    "    labels += [label]*len(imglist)\n",
    "    print('{} {} images are found / Label : {}'.format(len(imglist), category, label))\n",
    "print('Total : {} images are found'.format(len(imgnames)))"
   ]
  },
  {
   "cell_type": "code",
   "execution_count": null,
   "metadata": {},
   "outputs": [],
   "source": [
    "# Data shuffle 후에 80%는 training set / 20%는 test set으로 나눔\n",
    "numfiles = len(labels)\n",
    "idxrand = np.random.permutation(numfiles)\n",
    "idxtrain = idxrand[:int(0.8*numfiles)]\n",
    "idxtest = idxrand[int(0.8*numfiles):]\n",
    "print(len(idxtrain), len(idxtest))"
   ]
  },
  {
   "cell_type": "code",
   "execution_count": null,
   "metadata": {},
   "outputs": [],
   "source": [
    "## tfrecord file 경로 설정\n",
    "train_tfr_path = os.path.join(cur_dir, tfrecord_dir, tfrecord_train)\n",
    "test_tfr_path = os.path.join(cur_dir, tfrecord_dir, tfrecord_test)\n",
    "\n",
    "## tfrecord writer\n",
    "writer_train = tf.python_io.TFRecordWriter(train_tfr_path)\n",
    "writer_test = tf.python_io.TFRecordWriter(test_tfr_path)"
   ]
  },
  {
   "cell_type": "code",
   "execution_count": null,
   "metadata": {},
   "outputs": [],
   "source": [
    "def _int64_feature(value):\n",
    "    return tf.train.Feature(int64_list=tf.train.Int64List(value=[value]))\n",
    "\n",
    "def _bytes_feature(value):\n",
    "    return tf.train.Feature(bytes_list=tf.train.BytesList(value=[value]))"
   ]
  },
  {
   "cell_type": "code",
   "execution_count": null,
   "metadata": {},
   "outputs": [],
   "source": [
    "## training set을 tfrecord로 저장\n",
    "train_cnt = 0\n",
    "for idx in idxtrain:\n",
    "    label = labels[idx]\n",
    "    img_path = os.path.join(image_dir, categories[label], imgnames[idx])\n",
    "    \n",
    "    image = Image.open(img_path)    \n",
    "    image = image.resize((img_height, img_width))\n",
    "    \n",
    "    image = np.asarray(image)\n",
    "    ## rank=3인지 check하여 아닐 경우 3으로 확장(gray image)\n",
    "    try:\n",
    "        ch = image.shape[2]\n",
    "    except:\n",
    "        image = np.tile(np.expand_dims(image, axis=2), [1, 1, 3])\n",
    "        ch = image.shape[2]\n",
    "        \n",
    "    if ch == 1:\n",
    "        image = np.tile(image, [1, 1, 3])\n",
    "        ch = image.shape[2]\n",
    "    ## channel이 3인지 확인\n",
    "    if ch != 3:        \n",
    "        continue\n",
    "    image_str = image.tobytes()\n",
    "    \n",
    "    example = tf.train.Example(features=tf.train.Features(feature={\n",
    "        'image': _bytes_feature(image_str),\n",
    "        'label': _int64_feature(label)\n",
    "    }))\n",
    "    writer_train.write(example.SerializeToString())\n",
    "    train_cnt += 1\n",
    "print (\"{} train images are saved.\".format(train_cnt))"
   ]
  },
  {
   "cell_type": "code",
   "execution_count": null,
   "metadata": {},
   "outputs": [],
   "source": [
    "## test set을 tfrecord로 저장\n",
    "test_cnt = 0\n",
    "for idx in idxtest:\n",
    "    label = labels[idx]\n",
    "    img_path = os.path.join(image_dir, categories[label], imgnames[idx])\n",
    "    image = Image.open(img_path)    \n",
    "    image = image.resize((img_height, img_width))\n",
    "    \n",
    "    image = np.asarray(image)\n",
    "    ## rank=3인지 check하여 아닐 경우 3으로 확장(gray image)\n",
    "    try:\n",
    "        ch = image.shape[2]\n",
    "    except:\n",
    "        image = np.tile(np.expand_dims(image, axis=2), [1, 1, 3])\n",
    "        ch = image.shape[2]\n",
    "        \n",
    "    if ch == 1:\n",
    "        image = np.tile(image, [1, 1, 3])\n",
    "        ch = image.shape[2]\n",
    "    ## channel이 3인지 확인\n",
    "    if ch != 3:        \n",
    "        continue\n",
    "    image_str = image.tobytes()\n",
    "    \n",
    "    example = tf.train.Example(features=tf.train.Features(feature={\n",
    "        'image': _bytes_feature(image_str),\n",
    "        'label': _int64_feature(label)\n",
    "    }))\n",
    "    writer_test.write(example.SerializeToString())\n",
    "    test_cnt += 1\n",
    "print (\"{} test images are saved.\".format(test_cnt))"
   ]
  },
  {
   "cell_type": "code",
   "execution_count": null,
   "metadata": {},
   "outputs": [],
   "source": [
    "writer_train.close()\n",
    "writer_test.close()"
   ]
  },
  {
   "cell_type": "code",
   "execution_count": null,
   "metadata": {},
   "outputs": [],
   "source": []
  }
 ],
 "metadata": {
  "kernelspec": {
   "display_name": "Python 3",
   "language": "python",
   "name": "python3"
  },
  "language_info": {
   "codemirror_mode": {
    "name": "ipython",
    "version": 3
   },
   "file_extension": ".py",
   "mimetype": "text/x-python",
   "name": "python",
   "nbconvert_exporter": "python",
   "pygments_lexer": "ipython3",
   "version": "3.5.5"
  }
 },
 "nbformat": 4,
 "nbformat_minor": 2
}
