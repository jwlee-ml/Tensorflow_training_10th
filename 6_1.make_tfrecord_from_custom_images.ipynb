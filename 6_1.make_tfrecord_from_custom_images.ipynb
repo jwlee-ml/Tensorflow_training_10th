{
 "cells": [
  {
   "cell_type": "code",
   "execution_count": 1,
   "metadata": {},
   "outputs": [
    {
     "name": "stdout",
     "output_type": "stream",
     "text": [
      "1.9.0\n"
     ]
    }
   ],
   "source": [
    "## Importing Libraries\n",
    "\n",
    "import os\n",
    "import numpy as np\n",
    "import tensorflow as tf\n",
    "import matplotlib.pyplot as plt\n",
    "from PIL import Image\n",
    "\n",
    "print(tf.__version__)"
   ]
  },
  {
   "cell_type": "code",
   "execution_count": 2,
   "metadata": {},
   "outputs": [],
   "source": [
    "## training에 사용할 image size\n",
    "img_width = 128\n",
    "img_height = 128"
   ]
  },
  {
   "cell_type": "code",
   "execution_count": 3,
   "metadata": {},
   "outputs": [],
   "source": [
    "## tfrecord file 이름과 경로 설정\n",
    "tfrecord_train = 'train.tfrecord'\n",
    "tfrecord_test = 'test.tfrecord'\n",
    "tfrecord_dir = 'tfrecords'\n",
    "\n",
    "if not os.path.exists(tfrecord_dir):\n",
    "    os.makedirs(tfrecord_dir)"
   ]
  },
  {
   "cell_type": "code",
   "execution_count": 4,
   "metadata": {},
   "outputs": [],
   "source": [
    "## image file 저장되어 있는 directory 이름\n",
    "image_dir = './data/caltech101'"
   ]
  },
  {
   "cell_type": "code",
   "execution_count": 5,
   "metadata": {},
   "outputs": [
    {
     "name": "stdout",
     "output_type": "stream",
     "text": [
      "101 categories in /home/sungwookcho/Tensorflow_training_10th/./data/caltech101\n",
      "['Faces', 'Faces_easy', 'Leopards', 'Motorbikes', 'accordion', 'airplanes', 'anchor', 'ant', 'barrel', 'bass', 'beaver', 'binocular', 'bonsai', 'brain', 'brontosaurus', 'buddha', 'butterfly', 'camera', 'cannon', 'car_side', 'ceiling_fan', 'cellphone', 'chair', 'chandelier', 'cougar_body', 'cougar_face', 'crab', 'crayfish', 'crocodile', 'crocodile_head', 'cup', 'dalmatian', 'dollar_bill', 'dolphin', 'dragonfly', 'electric_guitar', 'elephant', 'emu', 'euphonium', 'ewer', 'ferry', 'flamingo', 'flamingo_head', 'garfield', 'gerenuk', 'gramophone', 'grand_piano', 'hawksbill', 'headphone', 'hedgehog', 'helicopter', 'ibis', 'inline_skate', 'joshua_tree', 'kangaroo', 'ketch', 'lamp', 'laptop', 'llama', 'lobster', 'lotus', 'mandolin', 'mayfly', 'menorah', 'metronome', 'minaret', 'nautilus', 'octopus', 'okapi', 'pagoda', 'panda', 'pigeon', 'pizza', 'platypus', 'pyramid', 'revolver', 'rhino', 'rooster', 'saxophone', 'schooner', 'scissors', 'scorpion', 'sea_horse', 'snoopy', 'soccer_ball', 'stapler', 'starfish', 'stegosaurus', 'stop_sign', 'strawberry', 'sunflower', 'tick', 'trilobite', 'umbrella', 'watch', 'water_lilly', 'wheelchair', 'wild_cat', 'windsor_chair', 'wrench', 'yin_yang']\n"
     ]
    }
   ],
   "source": [
    "## image file들이 저장되어 있는 경로 설정\n",
    "cur_dir = os.getcwd()\n",
    "image_path = os.path.join(cur_dir, image_dir)\n",
    "\n",
    "## image file 경로에 directory가 몇 개 있는지(class 수) 확인\n",
    "print ('{} categories in {}'.format(len(os.listdir(image_path)), image_path))\n",
    "\n",
    "categories = sorted(os.listdir(image_path))\n",
    "num_categ = len(categories)\n",
    "print (categories)"
   ]
  },
  {
   "cell_type": "code",
   "execution_count": 6,
   "metadata": {
    "scrolled": false
   },
   "outputs": [
    {
     "name": "stdout",
     "output_type": "stream",
     "text": [
      "435 Faces images are found / Label : 0\n",
      "435 Faces_easy images are found / Label : 1\n",
      "200 Leopards images are found / Label : 2\n",
      "798 Motorbikes images are found / Label : 3\n",
      "55 accordion images are found / Label : 4\n",
      "800 airplanes images are found / Label : 5\n",
      "42 anchor images are found / Label : 6\n",
      "42 ant images are found / Label : 7\n",
      "47 barrel images are found / Label : 8\n",
      "54 bass images are found / Label : 9\n",
      "46 beaver images are found / Label : 10\n",
      "33 binocular images are found / Label : 11\n",
      "128 bonsai images are found / Label : 12\n",
      "98 brain images are found / Label : 13\n",
      "43 brontosaurus images are found / Label : 14\n",
      "85 buddha images are found / Label : 15\n",
      "91 butterfly images are found / Label : 16\n",
      "50 camera images are found / Label : 17\n",
      "43 cannon images are found / Label : 18\n",
      "123 car_side images are found / Label : 19\n",
      "47 ceiling_fan images are found / Label : 20\n",
      "59 cellphone images are found / Label : 21\n",
      "62 chair images are found / Label : 22\n",
      "107 chandelier images are found / Label : 23\n",
      "47 cougar_body images are found / Label : 24\n",
      "69 cougar_face images are found / Label : 25\n",
      "73 crab images are found / Label : 26\n",
      "70 crayfish images are found / Label : 27\n",
      "50 crocodile images are found / Label : 28\n",
      "51 crocodile_head images are found / Label : 29\n",
      "57 cup images are found / Label : 30\n",
      "67 dalmatian images are found / Label : 31\n",
      "52 dollar_bill images are found / Label : 32\n",
      "65 dolphin images are found / Label : 33\n",
      "68 dragonfly images are found / Label : 34\n",
      "75 electric_guitar images are found / Label : 35\n",
      "64 elephant images are found / Label : 36\n",
      "53 emu images are found / Label : 37\n",
      "64 euphonium images are found / Label : 38\n",
      "85 ewer images are found / Label : 39\n",
      "67 ferry images are found / Label : 40\n",
      "67 flamingo images are found / Label : 41\n",
      "45 flamingo_head images are found / Label : 42\n",
      "34 garfield images are found / Label : 43\n",
      "34 gerenuk images are found / Label : 44\n",
      "51 gramophone images are found / Label : 45\n",
      "99 grand_piano images are found / Label : 46\n",
      "100 hawksbill images are found / Label : 47\n",
      "42 headphone images are found / Label : 48\n",
      "54 hedgehog images are found / Label : 49\n",
      "88 helicopter images are found / Label : 50\n",
      "80 ibis images are found / Label : 51\n",
      "31 inline_skate images are found / Label : 52\n",
      "64 joshua_tree images are found / Label : 53\n",
      "86 kangaroo images are found / Label : 54\n",
      "114 ketch images are found / Label : 55\n",
      "61 lamp images are found / Label : 56\n",
      "81 laptop images are found / Label : 57\n",
      "78 llama images are found / Label : 58\n",
      "41 lobster images are found / Label : 59\n",
      "66 lotus images are found / Label : 60\n",
      "43 mandolin images are found / Label : 61\n",
      "40 mayfly images are found / Label : 62\n",
      "87 menorah images are found / Label : 63\n",
      "32 metronome images are found / Label : 64\n",
      "76 minaret images are found / Label : 65\n",
      "55 nautilus images are found / Label : 66\n",
      "35 octopus images are found / Label : 67\n",
      "39 okapi images are found / Label : 68\n",
      "47 pagoda images are found / Label : 69\n",
      "38 panda images are found / Label : 70\n",
      "45 pigeon images are found / Label : 71\n",
      "53 pizza images are found / Label : 72\n",
      "34 platypus images are found / Label : 73\n",
      "57 pyramid images are found / Label : 74\n",
      "82 revolver images are found / Label : 75\n",
      "59 rhino images are found / Label : 76\n",
      "49 rooster images are found / Label : 77\n",
      "40 saxophone images are found / Label : 78\n",
      "63 schooner images are found / Label : 79\n",
      "39 scissors images are found / Label : 80\n",
      "84 scorpion images are found / Label : 81\n",
      "57 sea_horse images are found / Label : 82\n",
      "35 snoopy images are found / Label : 83\n",
      "64 soccer_ball images are found / Label : 84\n",
      "45 stapler images are found / Label : 85\n",
      "86 starfish images are found / Label : 86\n",
      "59 stegosaurus images are found / Label : 87\n",
      "64 stop_sign images are found / Label : 88\n",
      "35 strawberry images are found / Label : 89\n",
      "85 sunflower images are found / Label : 90\n",
      "49 tick images are found / Label : 91\n",
      "86 trilobite images are found / Label : 92\n",
      "75 umbrella images are found / Label : 93\n",
      "239 watch images are found / Label : 94\n",
      "37 water_lilly images are found / Label : 95\n",
      "59 wheelchair images are found / Label : 96\n",
      "34 wild_cat images are found / Label : 97\n",
      "56 windsor_chair images are found / Label : 98\n",
      "39 wrench images are found / Label : 99\n",
      "60 yin_yang images are found / Label : 100\n",
      "Total : 8677 images are found\n"
     ]
    }
   ],
   "source": [
    "## image file 확장자\n",
    "valid_exts = ['.jpg', '.png', '.jpeg', '.gif']\n",
    "\n",
    "## directory 별로 image file을 읽어서 확장자를 확인하여 list에 저장, label도 함께 저장\n",
    "imgnames = []\n",
    "labels = []\n",
    "for label, category in enumerate(categories):\n",
    "    filelist = os.listdir(os.path.join(image_path, category))\n",
    "    imglist = []\n",
    "    for f in filelist:\n",
    "        ext = os.path.splitext(f)[-1]\n",
    "        ## 올바른 확장자인지 check\n",
    "        if ext.lower() not in valid_exts:\n",
    "            continue\n",
    "        img = Image.open(os.path.join(image_path, category, f))\n",
    "        img = np.asarray(img)        \n",
    "        ## 해당 class의 image list에 추가\n",
    "        imglist.append(f)        \n",
    "    ## 전체 image list에 추가\n",
    "    imgnames += imglist\n",
    "    ## label 추가\n",
    "    labels += [label]*len(imglist)\n",
    "    print('{} {} images are found / Label : {}'.format(len(imglist), category, label))\n",
    "print('Total : {} images are found'.format(len(imgnames)))"
   ]
  },
  {
   "cell_type": "code",
   "execution_count": 7,
   "metadata": {},
   "outputs": [
    {
     "name": "stdout",
     "output_type": "stream",
     "text": [
      "6941 1736\n"
     ]
    }
   ],
   "source": [
    "# Data shuffle 후에 80%는 training set / 20%는 test set으로 나눔\n",
    "numfiles = len(labels)\n",
    "idxrand = np.random.permutation(numfiles)\n",
    "idxtrain = idxrand[:int(0.8*numfiles)]\n",
    "idxtest = idxrand[int(0.8*numfiles):]\n",
    "print(len(idxtrain), len(idxtest))"
   ]
  },
  {
   "cell_type": "code",
   "execution_count": 8,
   "metadata": {},
   "outputs": [],
   "source": [
    "## tfrecord file 경로 설정\n",
    "train_tfr_path = os.path.join(cur_dir, tfrecord_dir, tfrecord_train)\n",
    "test_tfr_path = os.path.join(cur_dir, tfrecord_dir, tfrecord_test)\n",
    "\n",
    "## tfrecord writer\n",
    "writer_train = tf.python_io.TFRecordWriter(train_tfr_path)\n",
    "writer_test = tf.python_io.TFRecordWriter(test_tfr_path)"
   ]
  },
  {
   "cell_type": "code",
   "execution_count": 9,
   "metadata": {},
   "outputs": [],
   "source": [
    "def _int64_feature(value):\n",
    "    return tf.train.Feature(int64_list=tf.train.Int64List(value=[value]))\n",
    "\n",
    "def _bytes_feature(value):\n",
    "    return tf.train.Feature(bytes_list=tf.train.BytesList(value=[value]))"
   ]
  },
  {
   "cell_type": "code",
   "execution_count": 10,
   "metadata": {},
   "outputs": [
    {
     "name": "stdout",
     "output_type": "stream",
     "text": [
      "6941 train images are saved.\n"
     ]
    }
   ],
   "source": [
    "## training set을 tfrecord로 저장\n",
    "train_cnt = 0\n",
    "for idx in idxtrain:\n",
    "    label = labels[idx]\n",
    "    img_path = os.path.join(image_dir, categories[label], imgnames[idx])\n",
    "    \n",
    "    image = Image.open(img_path)    \n",
    "    image = image.resize((img_height, img_width))\n",
    "    \n",
    "    image = np.asarray(image)\n",
    "    ## rank=3인지 check하여 아닐 경우 3으로 확장(gray image)\n",
    "    try:\n",
    "        ch = image.shape[2]\n",
    "    except:\n",
    "        image = np.tile(np.expand_dims(image, axis=2), [1, 1, 3])  # 채널 확장해서 만들어줌\n",
    "        ch = image.shape[2]\n",
    "        \n",
    "    if ch == 1:\n",
    "        image = np.tile(image, [1, 1, 3])\n",
    "        ch = image.shape[2]\n",
    "    ## channel이 3인지 확인\n",
    "    if ch != 3:        \n",
    "        continue\n",
    "    image_str = image.tobytes()\n",
    "    \n",
    "    example = tf.train.Example(features=tf.train.Features(feature={\n",
    "        'image': _bytes_feature(image_str),\n",
    "        'label': _int64_feature(label)\n",
    "    }))\n",
    "    writer_train.write(example.SerializeToString())\n",
    "    train_cnt += 1\n",
    "print (\"{} train images are saved.\".format(train_cnt))"
   ]
  },
  {
   "cell_type": "code",
   "execution_count": 11,
   "metadata": {},
   "outputs": [
    {
     "name": "stdout",
     "output_type": "stream",
     "text": [
      "1736 test images are saved.\n"
     ]
    }
   ],
   "source": [
    "## test set을 tfrecord로 저장\n",
    "test_cnt = 0\n",
    "for idx in idxtest:\n",
    "    label = labels[idx]\n",
    "    img_path = os.path.join(image_dir, categories[label], imgnames[idx])\n",
    "    image = Image.open(img_path)    \n",
    "    image = image.resize((img_height, img_width))\n",
    "    \n",
    "    image = np.asarray(image)\n",
    "    ## rank=3인지 check하여 아닐 경우 3으로 확장(gray image)\n",
    "    try:\n",
    "        ch = image.shape[2]\n",
    "    except:\n",
    "        image = np.tile(np.expand_dims(image, axis=2), [1, 1, 3])\n",
    "        ch = image.shape[2]\n",
    "        \n",
    "    if ch == 1:\n",
    "        image = np.tile(image, [1, 1, 3])\n",
    "        ch = image.shape[2]\n",
    "    ## channel이 3인지 확인\n",
    "    if ch != 3:        \n",
    "        continue\n",
    "    image_str = image.tobytes()\n",
    "    \n",
    "    example = tf.train.Example(features=tf.train.Features(feature={\n",
    "        'image': _bytes_feature(image_str),\n",
    "        'label': _int64_feature(label)\n",
    "    }))\n",
    "    writer_test.write(example.SerializeToString())\n",
    "    test_cnt += 1\n",
    "print (\"{} test images are saved.\".format(test_cnt))"
   ]
  },
  {
   "cell_type": "code",
   "execution_count": 12,
   "metadata": {},
   "outputs": [],
   "source": [
    "writer_train.close()\n",
    "writer_test.close()"
   ]
  }
 ],
 "metadata": {
  "kernelspec": {
   "display_name": "Python [conda env:tf_keras_py3]",
   "language": "python",
   "name": "conda-env-tf_keras_py3-py"
  },
  "language_info": {
   "codemirror_mode": {
    "name": "ipython",
    "version": 3
   },
   "file_extension": ".py",
   "mimetype": "text/x-python",
   "name": "python",
   "nbconvert_exporter": "python",
   "pygments_lexer": "ipython3",
   "version": "3.6.6"
  }
 },
 "nbformat": 4,
 "nbformat_minor": 2
}
